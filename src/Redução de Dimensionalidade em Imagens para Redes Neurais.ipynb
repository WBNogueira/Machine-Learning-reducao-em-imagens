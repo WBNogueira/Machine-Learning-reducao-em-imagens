{
 "cells": [
  {
   "cell_type": "code",
   "execution_count": 1,
   "id": "480ea81e",
   "metadata": {},
   "outputs": [],
   "source": [
    "import cv2"
   ]
  },
  {
   "cell_type": "code",
   "execution_count": 6,
   "id": "1bbc4e7c",
   "metadata": {},
   "outputs": [],
   "source": [
    "# Carregar a imagem\n",
    "image = cv2.imread('./images/foto.jpeg')\n",
    "\n",
    "# Converter para escala de cinza\n",
    "gray_image = cv2.cvtColor(image, cv2.COLOR_BGR2GRAY)\n",
    "\n",
    "# Converter para preto e branco usando thresholding\n",
    "_, black_and_white_image = cv2.threshold(gray_image, 127, 255, cv2.THRESH_BINARY)\n",
    "\n",
    "# Redimensionar\n",
    "gray_image_resized = cv2.resize(gray_image, (127, 255))\n",
    "\n",
    "# Salvar as imagens\n",
    "cv2.imwrite('./images/foto_cinza.jpeg', gray_image)\n",
    "cv2.imwrite('./images/foto_preto_branco.jpeg', black_and_white_image)\n",
    "\n",
    "# Exibir as imagens\n",
    "cv2.imshow('Imagem Original', image)\n",
    "cv2.imshow('Escala de Cinza', gray_image)\n",
    "cv2.imshow('Preto e Branco', black_and_white_image)\n",
    "\n",
    "# Aguardar a tecla 'q' para fechar as janelas\n",
    "cv2.waitKey(0)\n",
    "cv2.destroyAllWindows()"
   ]
  },
  {
   "cell_type": "code",
   "execution_count": null,
   "id": "53df7c65",
   "metadata": {},
   "outputs": [],
   "source": []
  }
 ],
 "metadata": {
  "kernelspec": {
   "display_name": "Python 3 (ipykernel)",
   "language": "python",
   "name": "python3"
  },
  "language_info": {
   "codemirror_mode": {
    "name": "ipython",
    "version": 3
   },
   "file_extension": ".py",
   "mimetype": "text/x-python",
   "name": "python",
   "nbconvert_exporter": "python",
   "pygments_lexer": "ipython3",
   "version": "3.9.13"
  }
 },
 "nbformat": 4,
 "nbformat_minor": 5
}
